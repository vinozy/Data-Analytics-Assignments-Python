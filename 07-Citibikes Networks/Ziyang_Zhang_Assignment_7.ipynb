{
 "cells": [
  {
   "cell_type": "markdown",
   "metadata": {},
   "source": [
    "<h1>Citibike Network Assignment</h1>\n",
    "<li>The file, 201809-citibike-tripdata.csv, contains citibike trip data from January 2014 (a reasonable sized file!)\n",
    "<li>The data:<br>\n",
    "\"tripduration\",\"starttime\",\"stoptime\",\"start station id\",\"start station name\",\"start station latitude\",\"start station longitude\",\"end station id\",\"end station name\",\"end station latitude\",\"end station longitude\",\"bikeid\",\"usertype\",\"birth year\",\"gender\"\n",
    "<li>Each record in the data is a trip \n",
    "<li>The data is described at https://www.citibikenyc.com/system-data"
   ]
  },
  {
   "cell_type": "markdown",
   "metadata": {},
   "source": [
    "<h1>STEP 1: Read the data into a dataframe</h1>\n",
    "<li>Convert station ids to str if necessary"
   ]
  },
  {
   "cell_type": "code",
   "execution_count": 60,
   "metadata": {},
   "outputs": [
    {
     "data": {
      "text/html": [
       "<div>\n",
       "<style scoped>\n",
       "    .dataframe tbody tr th:only-of-type {\n",
       "        vertical-align: middle;\n",
       "    }\n",
       "\n",
       "    .dataframe tbody tr th {\n",
       "        vertical-align: top;\n",
       "    }\n",
       "\n",
       "    .dataframe thead th {\n",
       "        text-align: right;\n",
       "    }\n",
       "</style>\n",
       "<table border=\"1\" class=\"dataframe\">\n",
       "  <thead>\n",
       "    <tr style=\"text-align: right;\">\n",
       "      <th></th>\n",
       "      <th>tripduration</th>\n",
       "      <th>starttime</th>\n",
       "      <th>stoptime</th>\n",
       "      <th>start station id</th>\n",
       "      <th>start station name</th>\n",
       "      <th>start station latitude</th>\n",
       "      <th>start station longitude</th>\n",
       "      <th>end station id</th>\n",
       "      <th>end station name</th>\n",
       "      <th>end station latitude</th>\n",
       "      <th>end station longitude</th>\n",
       "      <th>bikeid</th>\n",
       "      <th>usertype</th>\n",
       "      <th>birth year</th>\n",
       "      <th>gender</th>\n",
       "    </tr>\n",
       "  </thead>\n",
       "  <tbody>\n",
       "    <tr>\n",
       "      <th>0</th>\n",
       "      <td>1635</td>\n",
       "      <td>2018-09-01 00:00:05.2690</td>\n",
       "      <td>2018-09-01 00:27:20.6340</td>\n",
       "      <td>252.0</td>\n",
       "      <td>MacDougal St &amp; Washington Sq</td>\n",
       "      <td>40.732264</td>\n",
       "      <td>-73.998522</td>\n",
       "      <td>366.0</td>\n",
       "      <td>Clinton Ave &amp; Myrtle Ave</td>\n",
       "      <td>40.693261</td>\n",
       "      <td>-73.968896</td>\n",
       "      <td>25577</td>\n",
       "      <td>Subscriber</td>\n",
       "      <td>1980</td>\n",
       "      <td>1</td>\n",
       "    </tr>\n",
       "    <tr>\n",
       "      <th>1</th>\n",
       "      <td>132</td>\n",
       "      <td>2018-09-01 00:00:11.2810</td>\n",
       "      <td>2018-09-01 00:02:23.4810</td>\n",
       "      <td>314.0</td>\n",
       "      <td>Cadman Plaza West &amp; Montague St</td>\n",
       "      <td>40.693830</td>\n",
       "      <td>-73.990539</td>\n",
       "      <td>3242.0</td>\n",
       "      <td>Schermerhorn St &amp; Court St</td>\n",
       "      <td>40.691029</td>\n",
       "      <td>-73.991834</td>\n",
       "      <td>34377</td>\n",
       "      <td>Subscriber</td>\n",
       "      <td>1969</td>\n",
       "      <td>0</td>\n",
       "    </tr>\n",
       "    <tr>\n",
       "      <th>2</th>\n",
       "      <td>3337</td>\n",
       "      <td>2018-09-01 00:00:20.6490</td>\n",
       "      <td>2018-09-01 00:55:58.5470</td>\n",
       "      <td>3142.0</td>\n",
       "      <td>1 Ave &amp; E 62 St</td>\n",
       "      <td>40.761227</td>\n",
       "      <td>-73.960940</td>\n",
       "      <td>3384.0</td>\n",
       "      <td>Smith St &amp; 3 St</td>\n",
       "      <td>40.678724</td>\n",
       "      <td>-73.995991</td>\n",
       "      <td>30496</td>\n",
       "      <td>Subscriber</td>\n",
       "      <td>1975</td>\n",
       "      <td>1</td>\n",
       "    </tr>\n",
       "    <tr>\n",
       "      <th>3</th>\n",
       "      <td>436</td>\n",
       "      <td>2018-09-01 00:00:21.7460</td>\n",
       "      <td>2018-09-01 00:07:38.5830</td>\n",
       "      <td>308.0</td>\n",
       "      <td>St James Pl &amp; Oliver St</td>\n",
       "      <td>40.713079</td>\n",
       "      <td>-73.998512</td>\n",
       "      <td>3690.0</td>\n",
       "      <td>Park Pl &amp; Church St</td>\n",
       "      <td>40.713342</td>\n",
       "      <td>-74.009355</td>\n",
       "      <td>28866</td>\n",
       "      <td>Subscriber</td>\n",
       "      <td>1984</td>\n",
       "      <td>2</td>\n",
       "    </tr>\n",
       "    <tr>\n",
       "      <th>4</th>\n",
       "      <td>8457</td>\n",
       "      <td>2018-09-01 00:00:27.3150</td>\n",
       "      <td>2018-09-01 02:21:25.3080</td>\n",
       "      <td>345.0</td>\n",
       "      <td>W 13 St &amp; 6 Ave</td>\n",
       "      <td>40.736494</td>\n",
       "      <td>-73.997044</td>\n",
       "      <td>380.0</td>\n",
       "      <td>W 4 St &amp; 7 Ave S</td>\n",
       "      <td>40.734011</td>\n",
       "      <td>-74.002939</td>\n",
       "      <td>20943</td>\n",
       "      <td>Customer</td>\n",
       "      <td>1994</td>\n",
       "      <td>1</td>\n",
       "    </tr>\n",
       "    <tr>\n",
       "      <th>...</th>\n",
       "      <td>...</td>\n",
       "      <td>...</td>\n",
       "      <td>...</td>\n",
       "      <td>...</td>\n",
       "      <td>...</td>\n",
       "      <td>...</td>\n",
       "      <td>...</td>\n",
       "      <td>...</td>\n",
       "      <td>...</td>\n",
       "      <td>...</td>\n",
       "      <td>...</td>\n",
       "      <td>...</td>\n",
       "      <td>...</td>\n",
       "      <td>...</td>\n",
       "      <td>...</td>\n",
       "    </tr>\n",
       "    <tr>\n",
       "      <th>1877879</th>\n",
       "      <td>369</td>\n",
       "      <td>2018-09-30 00:27:25.9840</td>\n",
       "      <td>2018-09-30 00:33:35.7070</td>\n",
       "      <td>3601.0</td>\n",
       "      <td>Sterling St &amp; Bedford Ave</td>\n",
       "      <td>40.662706</td>\n",
       "      <td>-73.956912</td>\n",
       "      <td>3631.0</td>\n",
       "      <td>Crown St &amp; Bedford Ave</td>\n",
       "      <td>40.666563</td>\n",
       "      <td>-73.956741</td>\n",
       "      <td>32976</td>\n",
       "      <td>Subscriber</td>\n",
       "      <td>1985</td>\n",
       "      <td>2</td>\n",
       "    </tr>\n",
       "    <tr>\n",
       "      <th>1877880</th>\n",
       "      <td>191</td>\n",
       "      <td>2018-09-30 00:30:30.1850</td>\n",
       "      <td>2018-09-30 00:33:42.1090</td>\n",
       "      <td>3601.0</td>\n",
       "      <td>Sterling St &amp; Bedford Ave</td>\n",
       "      <td>40.662706</td>\n",
       "      <td>-73.956912</td>\n",
       "      <td>3631.0</td>\n",
       "      <td>Crown St &amp; Bedford Ave</td>\n",
       "      <td>40.666563</td>\n",
       "      <td>-73.956741</td>\n",
       "      <td>15595</td>\n",
       "      <td>Subscriber</td>\n",
       "      <td>1985</td>\n",
       "      <td>2</td>\n",
       "    </tr>\n",
       "    <tr>\n",
       "      <th>1877881</th>\n",
       "      <td>1442</td>\n",
       "      <td>2018-09-30 08:10:03.1790</td>\n",
       "      <td>2018-09-30 08:34:05.3870</td>\n",
       "      <td>3601.0</td>\n",
       "      <td>Sterling St &amp; Bedford Ave</td>\n",
       "      <td>40.662706</td>\n",
       "      <td>-73.956912</td>\n",
       "      <td>471.0</td>\n",
       "      <td>Grand St &amp; Havemeyer St</td>\n",
       "      <td>40.712868</td>\n",
       "      <td>-73.956981</td>\n",
       "      <td>28646</td>\n",
       "      <td>Subscriber</td>\n",
       "      <td>1981</td>\n",
       "      <td>1</td>\n",
       "    </tr>\n",
       "    <tr>\n",
       "      <th>1877882</th>\n",
       "      <td>453</td>\n",
       "      <td>2018-09-30 12:20:13.6830</td>\n",
       "      <td>2018-09-30 12:27:46.9140</td>\n",
       "      <td>3601.0</td>\n",
       "      <td>Sterling St &amp; Bedford Ave</td>\n",
       "      <td>40.662706</td>\n",
       "      <td>-73.956912</td>\n",
       "      <td>3584.0</td>\n",
       "      <td>Eastern Pkwy &amp; Franklin Ave</td>\n",
       "      <td>40.670777</td>\n",
       "      <td>-73.957680</td>\n",
       "      <td>34272</td>\n",
       "      <td>Subscriber</td>\n",
       "      <td>1986</td>\n",
       "      <td>1</td>\n",
       "    </tr>\n",
       "    <tr>\n",
       "      <th>1877883</th>\n",
       "      <td>1354</td>\n",
       "      <td>2018-09-30 14:10:01.1620</td>\n",
       "      <td>2018-09-30 14:32:36.1280</td>\n",
       "      <td>3601.0</td>\n",
       "      <td>Sterling St &amp; Bedford Ave</td>\n",
       "      <td>40.662706</td>\n",
       "      <td>-73.956912</td>\n",
       "      <td>3321.0</td>\n",
       "      <td>Clinton St &amp; Union St</td>\n",
       "      <td>40.683116</td>\n",
       "      <td>-73.997853</td>\n",
       "      <td>26028</td>\n",
       "      <td>Subscriber</td>\n",
       "      <td>1981</td>\n",
       "      <td>1</td>\n",
       "    </tr>\n",
       "  </tbody>\n",
       "</table>\n",
       "<p>1877884 rows × 15 columns</p>\n",
       "</div>"
      ],
      "text/plain": [
       "         tripduration                 starttime                  stoptime  \\\n",
       "0                1635  2018-09-01 00:00:05.2690  2018-09-01 00:27:20.6340   \n",
       "1                 132  2018-09-01 00:00:11.2810  2018-09-01 00:02:23.4810   \n",
       "2                3337  2018-09-01 00:00:20.6490  2018-09-01 00:55:58.5470   \n",
       "3                 436  2018-09-01 00:00:21.7460  2018-09-01 00:07:38.5830   \n",
       "4                8457  2018-09-01 00:00:27.3150  2018-09-01 02:21:25.3080   \n",
       "...               ...                       ...                       ...   \n",
       "1877879           369  2018-09-30 00:27:25.9840  2018-09-30 00:33:35.7070   \n",
       "1877880           191  2018-09-30 00:30:30.1850  2018-09-30 00:33:42.1090   \n",
       "1877881          1442  2018-09-30 08:10:03.1790  2018-09-30 08:34:05.3870   \n",
       "1877882           453  2018-09-30 12:20:13.6830  2018-09-30 12:27:46.9140   \n",
       "1877883          1354  2018-09-30 14:10:01.1620  2018-09-30 14:32:36.1280   \n",
       "\n",
       "         start station id               start station name  \\\n",
       "0                   252.0     MacDougal St & Washington Sq   \n",
       "1                   314.0  Cadman Plaza West & Montague St   \n",
       "2                  3142.0                  1 Ave & E 62 St   \n",
       "3                   308.0          St James Pl & Oliver St   \n",
       "4                   345.0                  W 13 St & 6 Ave   \n",
       "...                   ...                              ...   \n",
       "1877879            3601.0        Sterling St & Bedford Ave   \n",
       "1877880            3601.0        Sterling St & Bedford Ave   \n",
       "1877881            3601.0        Sterling St & Bedford Ave   \n",
       "1877882            3601.0        Sterling St & Bedford Ave   \n",
       "1877883            3601.0        Sterling St & Bedford Ave   \n",
       "\n",
       "         start station latitude  start station longitude  end station id  \\\n",
       "0                     40.732264               -73.998522           366.0   \n",
       "1                     40.693830               -73.990539          3242.0   \n",
       "2                     40.761227               -73.960940          3384.0   \n",
       "3                     40.713079               -73.998512          3690.0   \n",
       "4                     40.736494               -73.997044           380.0   \n",
       "...                         ...                      ...             ...   \n",
       "1877879               40.662706               -73.956912          3631.0   \n",
       "1877880               40.662706               -73.956912          3631.0   \n",
       "1877881               40.662706               -73.956912           471.0   \n",
       "1877882               40.662706               -73.956912          3584.0   \n",
       "1877883               40.662706               -73.956912          3321.0   \n",
       "\n",
       "                    end station name  end station latitude  \\\n",
       "0           Clinton Ave & Myrtle Ave             40.693261   \n",
       "1         Schermerhorn St & Court St             40.691029   \n",
       "2                    Smith St & 3 St             40.678724   \n",
       "3                Park Pl & Church St             40.713342   \n",
       "4                   W 4 St & 7 Ave S             40.734011   \n",
       "...                              ...                   ...   \n",
       "1877879       Crown St & Bedford Ave             40.666563   \n",
       "1877880       Crown St & Bedford Ave             40.666563   \n",
       "1877881      Grand St & Havemeyer St             40.712868   \n",
       "1877882  Eastern Pkwy & Franklin Ave             40.670777   \n",
       "1877883        Clinton St & Union St             40.683116   \n",
       "\n",
       "         end station longitude  bikeid    usertype  birth year  gender  \n",
       "0                   -73.968896   25577  Subscriber        1980       1  \n",
       "1                   -73.991834   34377  Subscriber        1969       0  \n",
       "2                   -73.995991   30496  Subscriber        1975       1  \n",
       "3                   -74.009355   28866  Subscriber        1984       2  \n",
       "4                   -74.002939   20943    Customer        1994       1  \n",
       "...                        ...     ...         ...         ...     ...  \n",
       "1877879             -73.956741   32976  Subscriber        1985       2  \n",
       "1877880             -73.956741   15595  Subscriber        1985       2  \n",
       "1877881             -73.956981   28646  Subscriber        1981       1  \n",
       "1877882             -73.957680   34272  Subscriber        1986       1  \n",
       "1877883             -73.997853   26028  Subscriber        1981       1  \n",
       "\n",
       "[1877884 rows x 15 columns]"
      ]
     },
     "execution_count": 60,
     "metadata": {},
     "output_type": "execute_result"
    }
   ],
   "source": [
    "import pandas as pd\n",
    "import numpy as np\n",
    "datafile = \"201809-citibike-tripdata.csv\"\n",
    "df = pd.read_csv(datafile)\n",
    "df"
   ]
  },
  {
   "cell_type": "markdown",
   "metadata": {},
   "source": [
    "<h1>STEP 2: Basic cleaning</h1>\n",
    "<li>Remove data that have any nans in any row (none in this file but others do have nans)\n",
    "<li>and convert stationids to str "
   ]
  },
  {
   "cell_type": "code",
   "execution_count": 61,
   "metadata": {
    "scrolled": true
   },
   "outputs": [
    {
     "name": "stderr",
     "output_type": "stream",
     "text": [
      "/Users/Zhang/opt/anaconda3/lib/python3.7/site-packages/ipykernel_launcher.py:2: SettingWithCopyWarning: \n",
      "A value is trying to be set on a copy of a slice from a DataFrame.\n",
      "Try using .loc[row_indexer,col_indexer] = value instead\n",
      "\n",
      "See the caveats in the documentation: https://pandas.pydata.org/pandas-docs/stable/user_guide/indexing.html#returning-a-view-versus-a-copy\n",
      "  \n",
      "/Users/Zhang/opt/anaconda3/lib/python3.7/site-packages/ipykernel_launcher.py:3: SettingWithCopyWarning: \n",
      "A value is trying to be set on a copy of a slice from a DataFrame.\n",
      "Try using .loc[row_indexer,col_indexer] = value instead\n",
      "\n",
      "See the caveats in the documentation: https://pandas.pydata.org/pandas-docs/stable/user_guide/indexing.html#returning-a-view-versus-a-copy\n",
      "  This is separate from the ipykernel package so we can avoid doing imports until\n"
     ]
    }
   ],
   "source": [
    "df = df.dropna()\n",
    "df['start station id'] = df['start station id'].astype(str)\n",
    "df['end station id'] = df['end station id'].astype(str)\n",
    "df"
   ]
  },
  {
   "cell_type": "markdown",
   "metadata": {},
   "source": [
    "<h1>STEP 3: Write a function that returns a graph given a citibike data frame</h1> \n",
    "<li>Your function should return two things:\n",
    "<ol>\n",
    "<li>a graph\n",
    "<li>a dictionary with station ids as the key and station name as the value\n",
    "</ol>\n",
    "<li>The graph should contain \n",
    "<ol>\n",
    "<li>nodes (station ids)\n",
    "<li>edges (station id, station id)\n",
    "<li>edge data \n",
    "<ol>\n",
    "<li>count: number of trips on the edge\n",
    "<li>time: average duration - pickup to dropoff - on that edge\n",
    "</ol>\n",
    "</ol>\n",
    "<li><b>Note:</b> the edge (x1,y1) is the same as (y1,x1) even though the start station ids and end station ids are flipped in the dataframe"
   ]
  },
  {
   "cell_type": "code",
   "execution_count": 73,
   "metadata": {},
   "outputs": [],
   "source": [
    "def get_citibike_graph(df):\n",
    "    import networkx as nx\n",
    "    G = nx.Graph()   # a graph\n",
    "    node_names = dict()  # a dictionary of node names\n",
    "\n",
    "    #YOUR CODE GOES HERE\n",
    "    import numpy as np\n",
    "    import pandas as pd\n",
    "    s1 = df['start station id'].unique()\n",
    "    s2 = df['end station id'].unique()\n",
    "    s1 = np.append(s1, s2)\n",
    "    nodes = list(set(list(s1)))\n",
    "    for x in range(0, len(nodes)):\n",
    "        try:\n",
    "            if nodes[x] not in node_names:\n",
    "                node_names[nodes[x]] = df[df['start station id'] == nodes[x]]['start station name'].iloc[0]\n",
    "        except:\n",
    "            continue\n",
    "            \n",
    "    edges = list()\n",
    "    temp = list()\n",
    "    for i in nodes:\n",
    "        series = df[df['start station id'] == i]['end station id']\n",
    "        for j in range(0, len(series)):\n",
    "            if(series.iloc[j] not in temp):\n",
    "                edges.append((i, series.iloc[j]))\n",
    "        temp.append(i)\n",
    "        \n",
    "    weighted = list()\n",
    "    for edge in edges:\n",
    "        A = len(df[((df['start station id'] == edge[0]) & (df['end station id'] == edge[1])) | \n",
    "               ((df['start station id'] == edge[1]) & (df['end station id'] == edge[0]))])\n",
    "        B = np.mean(df[((df['start station id'] == edge[0]) & (df['end station id'] == edge[1])) | \n",
    "                   ((df['start station id'] == edge[1]) & (df['end station id'] == edge[0]))]['tripduration'])\n",
    "        temp_list = [edge[0], edge[1], A, B]\n",
    "        weighted.append(temp_list)\n",
    "    \n",
    "    for e in weighted:\n",
    "        G.add_edge(e[0], e[1], trips = e[2], time = e[3])\n",
    "    \n",
    "    return G,node_names\n",
    "    "
   ]
  },
  {
   "cell_type": "markdown",
   "metadata": {},
   "source": [
    "<h1>STEP 4: Create the following graphs using the function above</h1>\n",
    "<li>G: A graph of all the data in the dataframe\n",
    "<li>m_G: A graph containing only data from male riders\n",
    "<li>f_G: A graph containing only data from female riders\n",
    "<li>Note: for m_G and f_G you will need to extract data from the dataframe"
   ]
  },
  {
   "cell_type": "code",
   "execution_count": 57,
   "metadata": {},
   "outputs": [],
   "source": [
    "import networkx as nx\n",
    "%matplotlib inline\n",
    "import matplotlib.pyplot as plt"
   ]
  },
  {
   "cell_type": "code",
   "execution_count": 74,
   "metadata": {},
   "outputs": [
    {
     "ename": "KeyboardInterrupt",
     "evalue": "",
     "output_type": "error",
     "traceback": [
      "\u001b[0;31m---------------------------------------------------------------------------\u001b[0m",
      "\u001b[0;31mKeyboardInterrupt\u001b[0m                         Traceback (most recent call last)",
      "\u001b[0;32m<ipython-input-74-8a0f5a5dc80f>\u001b[0m in \u001b[0;36m<module>\u001b[0;34m\u001b[0m\n\u001b[0;32m----> 1\u001b[0;31m \u001b[0mG\u001b[0m\u001b[0;34m,\u001b[0m\u001b[0mnodes\u001b[0m\u001b[0;34m=\u001b[0m\u001b[0mget_citibike_graph\u001b[0m\u001b[0;34m(\u001b[0m\u001b[0mdf\u001b[0m\u001b[0;34m)\u001b[0m\u001b[0;34m\u001b[0m\u001b[0;34m\u001b[0m\u001b[0m\n\u001b[0m",
      "\u001b[0;32m<ipython-input-73-457663913087>\u001b[0m in \u001b[0;36mget_citibike_graph\u001b[0;34m(df)\u001b[0m\n\u001b[1;32m     32\u001b[0m                ((df['start station id'] == edge[1]) & (df['end station id'] == edge[0]))])\n\u001b[1;32m     33\u001b[0m         B = np.mean(df[((df['start station id'] == edge[0]) & (df['end station id'] == edge[1])) | \n\u001b[0;32m---> 34\u001b[0;31m                    ((df['start station id'] == edge[1]) & (df['end station id'] == edge[0]))]['tripduration'])\n\u001b[0m\u001b[1;32m     35\u001b[0m         \u001b[0mtemp_list\u001b[0m \u001b[0;34m=\u001b[0m \u001b[0;34m[\u001b[0m\u001b[0medge\u001b[0m\u001b[0;34m[\u001b[0m\u001b[0;36m0\u001b[0m\u001b[0;34m]\u001b[0m\u001b[0;34m,\u001b[0m \u001b[0medge\u001b[0m\u001b[0;34m[\u001b[0m\u001b[0;36m1\u001b[0m\u001b[0;34m]\u001b[0m\u001b[0;34m,\u001b[0m \u001b[0mA\u001b[0m\u001b[0;34m,\u001b[0m \u001b[0mB\u001b[0m\u001b[0;34m]\u001b[0m\u001b[0;34m\u001b[0m\u001b[0;34m\u001b[0m\u001b[0m\n\u001b[1;32m     36\u001b[0m         \u001b[0mweighted\u001b[0m\u001b[0;34m.\u001b[0m\u001b[0mappend\u001b[0m\u001b[0;34m(\u001b[0m\u001b[0mtemp_list\u001b[0m\u001b[0;34m)\u001b[0m\u001b[0;34m\u001b[0m\u001b[0;34m\u001b[0m\u001b[0m\n",
      "\u001b[0;32m~/opt/anaconda3/lib/python3.7/site-packages/pandas/core/ops/common.py\u001b[0m in \u001b[0;36mnew_method\u001b[0;34m(self, other)\u001b[0m\n\u001b[1;32m     62\u001b[0m         \u001b[0mother\u001b[0m \u001b[0;34m=\u001b[0m \u001b[0mitem_from_zerodim\u001b[0m\u001b[0;34m(\u001b[0m\u001b[0mother\u001b[0m\u001b[0;34m)\u001b[0m\u001b[0;34m\u001b[0m\u001b[0;34m\u001b[0m\u001b[0m\n\u001b[1;32m     63\u001b[0m \u001b[0;34m\u001b[0m\u001b[0m\n\u001b[0;32m---> 64\u001b[0;31m         \u001b[0;32mreturn\u001b[0m \u001b[0mmethod\u001b[0m\u001b[0;34m(\u001b[0m\u001b[0mself\u001b[0m\u001b[0;34m,\u001b[0m \u001b[0mother\u001b[0m\u001b[0;34m)\u001b[0m\u001b[0;34m\u001b[0m\u001b[0;34m\u001b[0m\u001b[0m\n\u001b[0m\u001b[1;32m     65\u001b[0m \u001b[0;34m\u001b[0m\u001b[0m\n\u001b[1;32m     66\u001b[0m     \u001b[0;32mreturn\u001b[0m \u001b[0mnew_method\u001b[0m\u001b[0;34m\u001b[0m\u001b[0;34m\u001b[0m\u001b[0m\n",
      "\u001b[0;32m~/opt/anaconda3/lib/python3.7/site-packages/pandas/core/ops/__init__.py\u001b[0m in \u001b[0;36mwrapper\u001b[0;34m(self, other)\u001b[0m\n\u001b[1;32m    527\u001b[0m         \u001b[0mrvalues\u001b[0m \u001b[0;34m=\u001b[0m \u001b[0mextract_array\u001b[0m\u001b[0;34m(\u001b[0m\u001b[0mother\u001b[0m\u001b[0;34m,\u001b[0m \u001b[0mextract_numpy\u001b[0m\u001b[0;34m=\u001b[0m\u001b[0;32mTrue\u001b[0m\u001b[0;34m)\u001b[0m\u001b[0;34m\u001b[0m\u001b[0;34m\u001b[0m\u001b[0m\n\u001b[1;32m    528\u001b[0m \u001b[0;34m\u001b[0m\u001b[0m\n\u001b[0;32m--> 529\u001b[0;31m         \u001b[0mres_values\u001b[0m \u001b[0;34m=\u001b[0m \u001b[0mcomparison_op\u001b[0m\u001b[0;34m(\u001b[0m\u001b[0mlvalues\u001b[0m\u001b[0;34m,\u001b[0m \u001b[0mrvalues\u001b[0m\u001b[0;34m,\u001b[0m \u001b[0mop\u001b[0m\u001b[0;34m)\u001b[0m\u001b[0;34m\u001b[0m\u001b[0;34m\u001b[0m\u001b[0m\n\u001b[0m\u001b[1;32m    530\u001b[0m \u001b[0;34m\u001b[0m\u001b[0m\n\u001b[1;32m    531\u001b[0m         \u001b[0;32mreturn\u001b[0m \u001b[0m_construct_result\u001b[0m\u001b[0;34m(\u001b[0m\u001b[0mself\u001b[0m\u001b[0;34m,\u001b[0m \u001b[0mres_values\u001b[0m\u001b[0;34m,\u001b[0m \u001b[0mindex\u001b[0m\u001b[0;34m=\u001b[0m\u001b[0mself\u001b[0m\u001b[0;34m.\u001b[0m\u001b[0mindex\u001b[0m\u001b[0;34m,\u001b[0m \u001b[0mname\u001b[0m\u001b[0;34m=\u001b[0m\u001b[0mres_name\u001b[0m\u001b[0;34m)\u001b[0m\u001b[0;34m\u001b[0m\u001b[0;34m\u001b[0m\u001b[0m\n",
      "\u001b[0;32m~/opt/anaconda3/lib/python3.7/site-packages/pandas/core/ops/array_ops.py\u001b[0m in \u001b[0;36mcomparison_op\u001b[0;34m(left, right, op)\u001b[0m\n\u001b[1;32m    245\u001b[0m \u001b[0;34m\u001b[0m\u001b[0m\n\u001b[1;32m    246\u001b[0m     \u001b[0;32melif\u001b[0m \u001b[0mis_object_dtype\u001b[0m\u001b[0;34m(\u001b[0m\u001b[0mlvalues\u001b[0m\u001b[0;34m.\u001b[0m\u001b[0mdtype\u001b[0m\u001b[0;34m)\u001b[0m\u001b[0;34m:\u001b[0m\u001b[0;34m\u001b[0m\u001b[0;34m\u001b[0m\u001b[0m\n\u001b[0;32m--> 247\u001b[0;31m         \u001b[0mres_values\u001b[0m \u001b[0;34m=\u001b[0m \u001b[0mcomp_method_OBJECT_ARRAY\u001b[0m\u001b[0;34m(\u001b[0m\u001b[0mop\u001b[0m\u001b[0;34m,\u001b[0m \u001b[0mlvalues\u001b[0m\u001b[0;34m,\u001b[0m \u001b[0mrvalues\u001b[0m\u001b[0;34m)\u001b[0m\u001b[0;34m\u001b[0m\u001b[0;34m\u001b[0m\u001b[0m\n\u001b[0m\u001b[1;32m    248\u001b[0m \u001b[0;34m\u001b[0m\u001b[0m\n\u001b[1;32m    249\u001b[0m     \u001b[0;32melse\u001b[0m\u001b[0;34m:\u001b[0m\u001b[0;34m\u001b[0m\u001b[0;34m\u001b[0m\u001b[0m\n",
      "\u001b[0;32m~/opt/anaconda3/lib/python3.7/site-packages/pandas/core/ops/array_ops.py\u001b[0m in \u001b[0;36mcomp_method_OBJECT_ARRAY\u001b[0;34m(op, x, y)\u001b[0m\n\u001b[1;32m     55\u001b[0m         \u001b[0mresult\u001b[0m \u001b[0;34m=\u001b[0m \u001b[0mlibops\u001b[0m\u001b[0;34m.\u001b[0m\u001b[0mvec_compare\u001b[0m\u001b[0;34m(\u001b[0m\u001b[0mx\u001b[0m\u001b[0;34m.\u001b[0m\u001b[0mravel\u001b[0m\u001b[0;34m(\u001b[0m\u001b[0;34m)\u001b[0m\u001b[0;34m,\u001b[0m \u001b[0my\u001b[0m\u001b[0;34m,\u001b[0m \u001b[0mop\u001b[0m\u001b[0;34m)\u001b[0m\u001b[0;34m\u001b[0m\u001b[0;34m\u001b[0m\u001b[0m\n\u001b[1;32m     56\u001b[0m     \u001b[0;32melse\u001b[0m\u001b[0;34m:\u001b[0m\u001b[0;34m\u001b[0m\u001b[0;34m\u001b[0m\u001b[0m\n\u001b[0;32m---> 57\u001b[0;31m         \u001b[0mresult\u001b[0m \u001b[0;34m=\u001b[0m \u001b[0mlibops\u001b[0m\u001b[0;34m.\u001b[0m\u001b[0mscalar_compare\u001b[0m\u001b[0;34m(\u001b[0m\u001b[0mx\u001b[0m\u001b[0;34m.\u001b[0m\u001b[0mravel\u001b[0m\u001b[0;34m(\u001b[0m\u001b[0;34m)\u001b[0m\u001b[0;34m,\u001b[0m \u001b[0my\u001b[0m\u001b[0;34m,\u001b[0m \u001b[0mop\u001b[0m\u001b[0;34m)\u001b[0m\u001b[0;34m\u001b[0m\u001b[0;34m\u001b[0m\u001b[0m\n\u001b[0m\u001b[1;32m     58\u001b[0m     \u001b[0;32mreturn\u001b[0m \u001b[0mresult\u001b[0m\u001b[0;34m.\u001b[0m\u001b[0mreshape\u001b[0m\u001b[0;34m(\u001b[0m\u001b[0mx\u001b[0m\u001b[0;34m.\u001b[0m\u001b[0mshape\u001b[0m\u001b[0;34m)\u001b[0m\u001b[0;34m\u001b[0m\u001b[0;34m\u001b[0m\u001b[0m\n\u001b[1;32m     59\u001b[0m \u001b[0;34m\u001b[0m\u001b[0m\n",
      "\u001b[0;31mKeyboardInterrupt\u001b[0m: "
     ]
    }
   ],
   "source": [
    "G,nodes=get_citibike_graph(df)"
   ]
  },
  {
   "cell_type": "code",
   "execution_count": null,
   "metadata": {},
   "outputs": [],
   "source": [
    "nx.draw(G) "
   ]
  },
  {
   "cell_type": "code",
   "execution_count": null,
   "metadata": {
    "collapsed": true
   },
   "outputs": [],
   "source": [
    "m_G,nodes=get_citibike_graph(df[df['gender'] == 1])   # male_riders\n",
    "nx.draw(m_G)"
   ]
  },
  {
   "cell_type": "code",
   "execution_count": null,
   "metadata": {
    "collapsed": true
   },
   "outputs": [],
   "source": [
    "f_G,nodes=get_citibike_graph(df[df['gender'] == 2])   # female_riders\n",
    "nx.draw(f_G)"
   ]
  },
  {
   "cell_type": "markdown",
   "metadata": {},
   "source": [
    "<h1>STEP 5: Answer the following questions for each of the graphs</h1>\n",
    "<ol>\n",
    "<li>Which station (name) is the best connected (max degree)?\n",
    "<li>Travel between which pair of stations is the longest in terms of average duration between bike pickups and dropoffs. Report both the two stations as well as the time in minutes\n",
    "<li>Which edge is associated with the most number of trips?\n",
    "<li>Which station is the most central?\n",
    "<li>Which node is a bottleneck node?"
   ]
  },
  {
   "cell_type": "markdown",
   "metadata": {},
   "source": [
    "Which station (name) has the greatest number of connections (max degree)?"
   ]
  },
  {
   "cell_type": "code",
   "execution_count": null,
   "metadata": {},
   "outputs": [],
   "source": [
    "d1 = nx.degree(G)\n",
    "l1 = list(d1)\n",
    "all_val = max(l1, key=lambda x: x[1])\n",
    "#all_val = max(list(nx.degree(G)), key = lambda x: x[1])\n",
    "\n",
    "d2 = nx.degree(f_G)\n",
    "l2 = list(d2)\n",
    "f_val = max(l2, key=lambda x: x[1])\n",
    "\n",
    "d3 = nx.degree(m_G)\n",
    "l3 = list(d3)\n",
    "m_val = max(l3, key=lambda x: x[1])\n",
    "\n",
    "print(\"Busiest female station:\", nodes[f_val[0]])\n",
    "print(\"Busiest male station:\", nodes[m_val[0]])\n",
    "print(\"Busiest station:\", nodes[all_val[0]])"
   ]
  },
  {
   "cell_type": "code",
   "execution_count": 9,
   "metadata": {},
   "outputs": [
    {
     "name": "stdout",
     "output_type": "stream",
     "text": [
      "Busiest female station E 17 St & Broadway\n",
      "Busiest male station Lawrence St & Willoughby St\n",
      "Busiest station Lawrence St & Willoughby St\n"
     ]
    }
   ],
   "source": [
    "\n"
   ]
  },
  {
   "cell_type": "markdown",
   "metadata": {},
   "source": [
    "Travel between which pair of stations is the longest in terms of average duration between bike pickups and dropoffs"
   ]
  },
  {
   "cell_type": "code",
   "execution_count": null,
   "metadata": {},
   "outputs": [],
   "source": [
    "all_long = max(distance_all, key=lambda x: x[3])\n",
    "print(\"Longest average distance all:\", nodes[all_long[0]],\"to\", nodes[all_long[1]],\".\",\"Minutes:\",all_long[3]/60)\n",
    "\n",
    "m_long = max(distance_m, key=lambda x: x[3])\n",
    "print(\"Longest average males:\", nodes[m_long[0]],\"to\", nodes[m_long[1]],\".\",\"Minutes:\",m_long[3]/60)\n",
    "\n",
    "f_long = max(distance_f, key=lambda x: x[3])\n",
    "print(\"Longest average females:\", nodes[f_long[0]],\"to\", nodes[f_long[1]],\".\",\"Minutes:\",f_long[3]/60)"
   ]
  },
  {
   "cell_type": "code",
   "execution_count": 10,
   "metadata": {},
   "outputs": [
    {
     "name": "stdout",
     "output_type": "stream",
     "text": [
      "Longest average distance males:  W 43 St & 6 Ave  to  Warren St & Church St . Minutes:  6640\n",
      "Longest average distance females:  S Portland Ave & Hanson Pl  to  Flushing Ave & Carlton Ave . Minutes:  9093\n",
      "Longest average distance all:  Flushing Ave & Carlton Ave  to  S Portland Ave & Hanson Pl . Minutes:  9093\n",
      "('524', '152', {'trips': 5, 'time': 398427.4})\n",
      "('353', '242', {'trips': 1, 'time': 545583.0})\n",
      "('242', '353', {'trips': 1, 'time': 545583.0})\n"
     ]
    }
   ],
   "source": [
    "#Note: I've printed the max edges but you don't need to print them"
   ]
  },
  {
   "cell_type": "markdown",
   "metadata": {},
   "source": [
    "Which edge is associated with the most number of trips?"
   ]
  },
  {
   "cell_type": "code",
   "execution_count": null,
   "metadata": {},
   "outputs": [],
   "source": [
    "all_long = max(distance_all, key=lambda x: x[2])\n",
    "print(\"Most trip route all:\", nodes[all_long[0]],\"to\", nodes[all_long[1]],\".\",\"Minutes:\",all_long[3]/60)\n",
    "\n",
    "m_long = max(distance_m, key=lambda x: x[2])\n",
    "print(\"Most trip route males:\", nodes[m_long[0]],\"to\", nodes[m_long[1]],\".\",\"Minutes:\",m_long[3]/60)\n",
    "\n",
    "f_long = max(distance_f, key=lambda x: x[2])\n",
    "print(\"Most trip route females:\", nodes[f_long[0]],\"to\", nodes[f_long[1]],\".\",\"Minutes:\",f_long[3]/60)"
   ]
  },
  {
   "cell_type": "code",
   "execution_count": 28,
   "metadata": {},
   "outputs": [
    {
     "name": "stdout",
     "output_type": "stream",
     "text": [
      "most trip route males:  E 43 St & Vanderbilt Ave  to  W 41 St & 8 Ave . Minutes:  7\n",
      "most trip route females:  Lafayette St & E 8 St  to  E 7 St & Avenue A . Minutes:  5\n",
      "most trip route all:  E 43 St & Vanderbilt Ave  to  W 41 St & 8 Ave . Minutes:  7\n"
     ]
    }
   ],
   "source": []
  },
  {
   "cell_type": "code",
   "execution_count": null,
   "metadata": {},
   "outputs": [],
   "source": [
    "c_all = nx.closeness_centrality(G)\n",
    "call = sorted(c_all.items(),key = lambda x: x[1],reverse = True)\n",
    "\n",
    "c_f = nx.closeness_centrality(f_G)\n",
    "cf = sorted(c_f.items(),key = lambda x: x[1],reverse = True)\n",
    "\n",
    "c_m = nx.closeness_centrality(m_G)\n",
    "cm = sorted(c_m.items(),key = lambda x: x[1],reverse = True)\n",
    "\n",
    "print(\"The most central node:\", nodes[call[0][0]])\n",
    "print(\"The most central female node:\", nodes[cf[0][0]])\n",
    "print(\"The most central male node:\", nodes[cm[0][0]])"
   ]
  },
  {
   "cell_type": "code",
   "execution_count": null,
   "metadata": {},
   "outputs": [],
   "source": [
    "c_all = nx.betweenness_centrality(G)\n",
    "call = sorted(c_all.items(),key = lambda x: x[1],reverse = True)\n",
    "\n",
    "c_f = nx.betweenness_centrality(f_G)\n",
    "cf = sorted(c_f.items(),key = lambda x: x[1],reverse = True)\n",
    "\n",
    "c_m = nx.betweenness_centrality(m_G)\n",
    "cm = sorted(c_m.items(),key = lambda x: x[1],reverse = True)\n",
    "\n",
    "print(\"The most bottleneck node:\", nodes[call[0][0]])\n",
    "print(\"The most bottleneck female node:\", nodes[cf[0][0]])\n",
    "print(\"The most bottleneck male node:\", nodes[cm[0][0]])"
   ]
  },
  {
   "cell_type": "markdown",
   "metadata": {},
   "source": [
    "<h2>Centrality</h2>\n",
    "One of the concerns that the citibike system has to deal with is ensuring that no station has empty slots (a bike should always be available) and that no station should have no empty slots (you should be able to return a bike). To do this, it needs to monitor the movement of bikes through the system, ideally using a directed graph. Though our graph is not directed, we can look at some network characteristics that will help us answer these questions. Note that the \"trips\" feature in edge data captures flows.\n",
    "<li>Which node is a possible bottleneck node in terms of bike flows?\n",
    "<li>Which node is the \"nearest\" to all other nodes (irrespective of flows)\n",
    "<li>Which node is the \"nearest\" to all other nodes (in terms of distance = time)\n"
   ]
  },
  {
   "cell_type": "code",
   "execution_count": null,
   "metadata": {},
   "outputs": [],
   "source": [
    "\n",
    "c_all_1 = nx.betweenness_centrality(G, weight='trips')\n",
    "bottleneck = sorted(c_all_1.items(),key = lambda x: x[1],reverse = True)\n",
    "\n",
    "c_all_2 = nx.closeness_centrality(G)\n",
    "close1 = sorted(c_all_2.items(),key = lambda x: x[1],reverse = True)\n",
    "\n",
    "c_all_3 = nx.closeness_centrality(G, distance='time')\n",
    "close2 = sorted(c_all_3.items(),key = lambda x: x[1],reverse = True)\n",
    "\n",
    "print(\"Most central in connectivity:\", nodes[close1[0][0]])\n",
    "print(\"Most central in connectivity using time as distance:\", nodes[close2[0][0]])\n",
    "print(\"Bottleneck node:\", nodes[bottleneck[0][0]])"
   ]
  },
  {
   "cell_type": "code",
   "execution_count": 27,
   "metadata": {},
   "outputs": [
    {
     "name": "stdout",
     "output_type": "stream",
     "text": [
      "Most central in connectivity Lawrence St & Willoughby St\n",
      "Most central in connectivity using time as distance Fulton St & Rockwell Pl\n",
      "Bottleneck node Atlantic Ave & Fort Greene Pl\n"
     ]
    }
   ],
   "source": [
    "\n"
   ]
  }
 ],
 "metadata": {
  "kernelspec": {
   "display_name": "Python 3",
   "language": "python",
   "name": "python3"
  },
  "language_info": {
   "codemirror_mode": {
    "name": "ipython",
    "version": 3
   },
   "file_extension": ".py",
   "mimetype": "text/x-python",
   "name": "python",
   "nbconvert_exporter": "python",
   "pygments_lexer": "ipython3",
   "version": "3.7.6"
  }
 },
 "nbformat": 4,
 "nbformat_minor": 2
}
