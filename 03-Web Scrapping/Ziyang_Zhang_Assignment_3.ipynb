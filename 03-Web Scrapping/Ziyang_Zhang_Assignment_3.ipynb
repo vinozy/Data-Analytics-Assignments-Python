{
 "cells": [
  {
   "cell_type": "markdown",
   "metadata": {},
   "source": [
    "<h1>Scraping Fidelity.com</h1>\n",
    "In this assignment, you will scrape data from fidelity.com. The goal of the exercise is to get the latest sector performance data from the US markets, and to get the total market capitalization for each sector. \n",
    "\n",
    "The end result is to write a function: <i>get_us_sector_performance()</i> that will return a list of tuples. Each tuple should correspond to a sector and should contain the following data:\n",
    "<li>the sector name\n",
    "<li>the amount the sector has moved\n",
    "<li>the market capitalization of the sector\n",
    "<li>the market weight of the sector\n",
    "<li>a link to the fidelity page for that sector\n",
    "\n",
    "<p>\n",
    "The data should be sorted by decreasing order of market weight. I.e., the sector with the highest weight should be in the first tuple, etc."
   ]
  },
  {
   "cell_type": "markdown",
   "metadata": {},
   "source": [
    "<h3>Process</h3>\n",
    "<li>Get a list of sectors and the links to the sector detail pages from the url (see function)\n",
    "<li>Loop through the list and call the function <i>get_sector_change_and_market_cap(sector_page_link)</i> for each sector\n",
    "<li>Accumulate the name, the change, the capitalization, the weight and the link for each sector in output_list (see function)\n",
    "<li>Sort the list by market weight"
   ]
  },
  {
   "cell_type": "markdown",
   "metadata": {},
   "source": [
    "<b>Notes:</b>\n",
    "<li>Note that the market weight is a string with a % sign at the back. You will need to get rid of the % and convert the string into a float before you can sort it\n",
    "<li>Your starting data is the url listed below. You need to extract all data, including links to the sector pages, from the page at this url\n",
    "<li>To sort a list of tuples by an arbitrary element, use the example at the bottom of this notebook"
   ]
  },
  {
   "cell_type": "code",
   "execution_count": 1,
   "metadata": {},
   "outputs": [],
   "source": [
    "def get_us_sector_performance():\n",
    "    import requests\n",
    "    from bs4 import BeautifulSoup\n",
    "    \n",
    "    # Create an empty list first\n",
    "    output_list = list()\n",
    "    \n",
    "    # request url and apply BeautifulSoup to the content\n",
    "    url = \"https://eresearch.fidelity.com/eresearch/goto/markets_sectors/landing.jhtml\"\n",
    "    response = requests.get(url)\n",
    "    page_data_soup = BeautifulSoup(response.content,'lxml')\n",
    "    \n",
    "    us_sectors = page_data_soup.find_all('a',class_='heading1')\n",
    "    \n",
    "    # Loop through each sector\n",
    "    for sector in us_sectors:\n",
    "        sector_name = sector.get_text()\n",
    "        sector_href = sector.get('href')\n",
    "        sector_link = 'https://eresearch.fidelity.com/' + sector_href\n",
    "        \n",
    "        change_cap_weight = get_sector_change_and_market_cap(sector_link)\n",
    "        sector_change = change_cap_weight[0]\n",
    "        sector_market_cap = change_cap_weight[1]\n",
    "        sector_weight = change_cap_weight[2]\n",
    "        \n",
    "        output_list.append((sector_name, sector_change, sector_market_cap, sector_weight, sector_link))\n",
    "    \n",
    "    # Sort the list in an decreasing order of market weight\n",
    "    output_list.sort(reverse=True, key=lambda z:z[3])\n",
    "    return output_list"
   ]
  },
  {
   "cell_type": "code",
   "execution_count": 1,
   "metadata": {},
   "outputs": [],
   "source": [
    "def get_sector_change_and_market_cap(sector_page_link):\n",
    "    import requests\n",
    "    from bs4 import BeautifulSoup\n",
    "    response = requests.get(sector_page_link)\n",
    "    page_data_soup = BeautifulSoup(response.content,'lxml')\n",
    "    header = page_data_soup.find_all('table', class_=\"snapshot-data-tbl\")\n",
    "    for tags in header:\n",
    "        # Save the %change as a float.\n",
    "        try:\n",
    "            change = tags.find('span',class_='negative').get_text()[:-1] # Slicing to remove %\n",
    "            sector_change = float(change)\n",
    "        # Include the exception when the change is positive, because right now all sectors\n",
    "        # have a negative change and all classes under span shows 'negative'.\n",
    "        except:\n",
    "            change = tags.find('span',class_='positive').get_text()[:-1]\n",
    "            sector_change = float(change)\n",
    "        \n",
    "        # Save the market cap as a string.\n",
    "        sector_market_cap = tags.find_all('td')[1].find('span').get_text()\n",
    "        \n",
    "        # Save the market weight as a float.\n",
    "        weight = tags.find('td',class_='left-spcng').find('span').get_text()[:-1] # Slicing to remove %\n",
    "        try:\n",
    "            sector_market_weight = float(weight)\n",
    "        # Include the exceptions when market weight data is not available or empty\n",
    "        except ValueError or TypeError:\n",
    "            sector_market_weight = 0.0\n",
    "\n",
    "    return sector_change,sector_market_cap,sector_market_weight"
   ]
  },
  {
   "cell_type": "code",
   "execution_count": 3,
   "metadata": {},
   "outputs": [
    {
     "data": {
      "text/plain": [
       "(-0.77, '$5.35T', 9.86)"
      ]
     },
     "execution_count": 3,
     "metadata": {},
     "output_type": "execute_result"
    }
   ],
   "source": [
    "#Test get_sector_change_and_market_cap()\n",
    "link = \"https://eresearch.fidelity.com/eresearch/markets_sectors/sectors/sectors_in_market.jhtml?tab=learn&sector=25\"\n",
    "get_sector_change_and_market_cap(link)\n",
    "#Should return (-0.40, '$3.58T', 6.80)\n",
    "#Note that neither the -0.40, nor the 6.80, end with a %sign"
   ]
  },
  {
   "cell_type": "code",
   "execution_count": 4,
   "metadata": {},
   "outputs": [
    {
     "data": {
      "text/plain": [
       "[('Information Technology',\n",
       "  0.79,\n",
       "  '$8.61T',\n",
       "  24.32,\n",
       "  'https://eresearch.fidelity.com//eresearch/markets_sectors/sectors/sectors_in_market.jhtml?tab=learn&sector=45'),\n",
       " ('Health Care',\n",
       "  -1.41,\n",
       "  '$5.70T',\n",
       "  13.89,\n",
       "  'https://eresearch.fidelity.com//eresearch/markets_sectors/sectors/sectors_in_market.jhtml?tab=learn&sector=35'),\n",
       " ('Financials',\n",
       "  -2.57,\n",
       "  '$6.71T',\n",
       "  12.49,\n",
       "  'https://eresearch.fidelity.com//eresearch/markets_sectors/sectors/sectors_in_market.jhtml?tab=learn&sector=40'),\n",
       " ('Communication Services',\n",
       "  0.22,\n",
       "  '$4.57T',\n",
       "  10.47,\n",
       "  'https://eresearch.fidelity.com//eresearch/markets_sectors/sectors/sectors_in_market.jhtml?tab=learn&sector=50'),\n",
       " ('Consumer Discretionary',\n",
       "  -0.77,\n",
       "  '$5.35T',\n",
       "  9.86,\n",
       "  'https://eresearch.fidelity.com//eresearch/markets_sectors/sectors/sectors_in_market.jhtml?tab=learn&sector=25'),\n",
       " ('Industrials',\n",
       "  -1.18,\n",
       "  '$4.03T',\n",
       "  8.97,\n",
       "  'https://eresearch.fidelity.com//eresearch/markets_sectors/sectors/sectors_in_market.jhtml?tab=learn&sector=20'),\n",
       " ('Consumer Staples',\n",
       "  -2.08,\n",
       "  '$3.71T',\n",
       "  7.16,\n",
       "  'https://eresearch.fidelity.com//eresearch/markets_sectors/sectors/sectors_in_market.jhtml?tab=learn&sector=30'),\n",
       " ('Energy',\n",
       "  1.25,\n",
       "  '$2.50T',\n",
       "  3.74,\n",
       "  'https://eresearch.fidelity.com//eresearch/markets_sectors/sectors/sectors_in_market.jhtml?tab=learn&sector=10'),\n",
       " ('Utilities',\n",
       "  -3.32,\n",
       "  '$1.51T',\n",
       "  3.48,\n",
       "  'https://eresearch.fidelity.com//eresearch/markets_sectors/sectors/sectors_in_market.jhtml?tab=learn&sector=55'),\n",
       " ('Real Estate',\n",
       "  -2.53,\n",
       "  '$1.34T',\n",
       "  3.1,\n",
       "  'https://eresearch.fidelity.com//eresearch/markets_sectors/sectors/sectors_in_market.jhtml?tab=learn&sector=60'),\n",
       " ('Materials',\n",
       "  -1.21,\n",
       "  '$1.71T',\n",
       "  2.52,\n",
       "  'https://eresearch.fidelity.com//eresearch/markets_sectors/sectors/sectors_in_market.jhtml?tab=learn&sector=15')]"
      ]
     },
     "execution_count": 4,
     "metadata": {},
     "output_type": "execute_result"
    }
   ],
   "source": [
    "#Test get_us_sector_performance()\n",
    "get_us_sector_performance()\n",
    "#Should return (example: obviously the results will vary over time!)\n",
    "\n",
    "# \"\"\"\n",
    "# [('Telecommunication Services',\n",
    "#   0.21,\n",
    "#   '$1.74T',\n",
    "#   2.0,\n",
    "#   'https://eresearch.fidelity.com/eresearch/markets_sectors/sectors/sectors_in_market.jhtml?tab=learn&sector=50'),\n",
    "#  ('Materials',\n",
    "#   0.22,\n",
    "#   '$1.95T',\n",
    "#   2.49,\n",
    "#   'https://eresearch.fidelity.com/eresearch/markets_sectors/sectors/sectors_in_market.jhtml?tab=learn&sector=15'),\n",
    "#  ('Real Estate',\n",
    "#   -0.45,\n",
    "#   '$1.22T',\n",
    "#   2.7,\n",
    "#   'https://eresearch.fidelity.com/eresearch/markets_sectors/sectors/sectors_in_market.jhtml?tab=learn&sector=60'),\n",
    "#  ('Utilities',\n",
    "#   -0.33,\n",
    "#   '$1.25T',\n",
    "#   2.86,\n",
    "#   'https://eresearch.fidelity.com/eresearch/markets_sectors/sectors/sectors_in_market.jhtml?tab=learn&sector=55'),\n",
    "#  ('Energy',\n",
    "#   0.76,\n",
    "#   '$3.90T',\n",
    "#   5.83,\n",
    "#   'https://eresearch.fidelity.com/eresearch/markets_sectors/sectors/sectors_in_market.jhtml?tab=learn&sector=10'),\n",
    "#  ('Consumer Staples',\n",
    "#   -0.32,\n",
    "#   '$3.58T',\n",
    "#   6.8,\n",
    "#   'https://eresearch.fidelity.com/eresearch/markets_sectors/sectors/sectors_in_market.jhtml?tab=learn&sector=30'),\n",
    "#  ('Industrials',\n",
    "#   0.72,\n",
    "#   '$4.31T',\n",
    "#   9.83,\n",
    "#   'https://eresearch.fidelity.com/eresearch/markets_sectors/sectors/sectors_in_market.jhtml?tab=learn&sector=20'),\n",
    "#  ('Consumer Discretionary',\n",
    "#   1.03,\n",
    "#   '$5.76T',\n",
    "#   12.9,\n",
    "#   'https://eresearch.fidelity.com/eresearch/markets_sectors/sectors/sectors_in_market.jhtml?tab=learn&sector=25'),\n",
    "#  ('Financials',\n",
    "#   0.39,\n",
    "#   '$7.45T',\n",
    "#   13.71,\n",
    "#   'https://eresearch.fidelity.com/eresearch/markets_sectors/sectors/sectors_in_market.jhtml?tab=learn&sector=40'),\n",
    "#  ('Health Care',\n",
    "#   0.76,\n",
    "#   '$5.70T',\n",
    "#   14.71,\n",
    "#   'https://eresearch.fidelity.com/eresearch/markets_sectors/sectors/sectors_in_market.jhtml?tab=learn&sector=35'),\n",
    "#  ('Information Technology',\n",
    "#   0.81,\n",
    "#   '$9.84T',\n",
    "#   26.17,\n",
    "#   'https://eresearch.fidelity.com/eresearch/markets_sectors/sectors/sectors_in_market.jhtml?tab=learn&sector=45')]\n",
    "  \n",
    "# \"\"\""
   ]
  },
  {
   "cell_type": "markdown",
   "metadata": {},
   "source": [
    "<h3>Sorting</h3>"
   ]
  },
  {
   "cell_type": "code",
   "execution_count": 1,
   "metadata": {},
   "outputs": [
    {
     "data": {
      "text/plain": [
       "[('a', 23.2, 'b'), ('c', 17.4, 'f'), ('d', 29.2, 'z'), ('e', 1.74, 'bb')]"
      ]
     },
     "execution_count": 1,
     "metadata": {},
     "output_type": "execute_result"
    }
   ],
   "source": [
    "x = [('a',23.2,'b'),('c',17.4,'f'),('d',29.2,'z'),('e',1.74,'bb')]\n",
    "x.sort() #Sorts by the first element of the tuple\n",
    "x"
   ]
  },
  {
   "cell_type": "code",
   "execution_count": 2,
   "metadata": {},
   "outputs": [
    {
     "data": {
      "text/plain": [
       "[('e', 1.74, 'bb'), ('c', 17.4, 'f'), ('a', 23.2, 'b'), ('d', 29.2, 'z')]"
      ]
     },
     "execution_count": 2,
     "metadata": {},
     "output_type": "execute_result"
    }
   ],
   "source": [
    "x = [('a',23.2,'b'),('c',17.4,'f'),('d',29.2,'z'),('e',1.74,'bb')]\n",
    "x.sort(key=lambda k: k[1]) #Sorts by the element at position 1\n",
    "x"
   ]
  },
  {
   "cell_type": "code",
   "execution_count": null,
   "metadata": {
    "collapsed": true
   },
   "outputs": [],
   "source": []
  }
 ],
 "metadata": {
  "kernelspec": {
   "display_name": "Python 3",
   "language": "python",
   "name": "python3"
  },
  "language_info": {
   "codemirror_mode": {
    "name": "ipython",
    "version": 3
   },
   "file_extension": ".py",
   "mimetype": "text/x-python",
   "name": "python",
   "nbconvert_exporter": "python",
   "pygments_lexer": "ipython3",
   "version": "3.7.6"
  }
 },
 "nbformat": 4,
 "nbformat_minor": 2
}
