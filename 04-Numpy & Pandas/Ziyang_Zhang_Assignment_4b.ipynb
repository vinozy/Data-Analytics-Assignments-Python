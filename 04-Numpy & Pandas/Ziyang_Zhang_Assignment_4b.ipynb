{
 "cells": [
  {
   "cell_type": "markdown",
   "metadata": {},
   "source": [
    "<h1>Problem 1: Factorials using numpy</h1>\n",
    "<li><b>prod</b> A numpy function that returns the product of all elements in an array\n",
    "<li><b>cumprod</b> A numpy function on an ndarray of size n that returns an array of size n where each element i is the product of all elements from 0 to i\n"
   ]
  },
  {
   "cell_type": "code",
   "execution_count": 1,
   "metadata": {},
   "outputs": [],
   "source": [
    "\"\"\"\n",
    "Replace pass with the code that uses ndarray, prod and cumprod \n",
    "to calculate the factorial of n\n",
    "\n",
    "The function should take an integer as an argument and return an integer\n",
    "\n",
    "\"\"\"\n",
    "def factorial(n):\n",
    "    import numpy as np\n",
    "    if n == 0:\n",
    "        return 0\n",
    "    elif n < 0:\n",
    "        return 'n must be positive'\n",
    "    else:\n",
    "        ax = np.arange(1,n+1)\n",
    "        return np.prod(ax)            \n",
    "        # np.prod(array)  -->  returns the product of all elements in an array"
   ]
  },
  {
   "cell_type": "code",
   "execution_count": 2,
   "metadata": {},
   "outputs": [
    {
     "name": "stdout",
     "output_type": "stream",
     "text": [
      "0\n",
      "n must be positive\n",
      "120\n"
     ]
    }
   ],
   "source": [
    "# Test\n",
    "\n",
    "print(factorial(0))\n",
    "print(factorial(-2))\n",
    "print(factorial(5))"
   ]
  },
  {
   "cell_type": "code",
   "execution_count": 3,
   "metadata": {},
   "outputs": [
    {
     "data": {
      "text/plain": [
       "array([ 1,  2,  6, 24])"
      ]
     },
     "execution_count": 3,
     "metadata": {},
     "output_type": "execute_result"
    }
   ],
   "source": [
    "import numpy as np\n",
    "np.cumprod(np.array([1,2,3,4]))\n",
    "# np.cumprod(array)"
   ]
  },
  {
   "cell_type": "code",
   "execution_count": 4,
   "metadata": {},
   "outputs": [],
   "source": [
    "\"\"\"\n",
    "Replace pass with the code that uses ndarray, prod and cumprod to \n",
    "calculate the factorials of all values from 1 to n\n",
    "\n",
    "The function should take an integer as an argument and return an ndarray\n",
    "of size n \n",
    "\n",
    "\"\"\"\n",
    "\n",
    "def all_factorials(n):\n",
    "    import numpy as np\n",
    "    if n == 0:\n",
    "        return 0\n",
    "    elif n < 0:\n",
    "        return 'n must be positive'\n",
    "    else:\n",
    "        ay = np.arange(1,n+1)\n",
    "        return np.cumprod(ay)"
   ]
  },
  {
   "cell_type": "code",
   "execution_count": 5,
   "metadata": {},
   "outputs": [
    {
     "name": "stdout",
     "output_type": "stream",
     "text": [
      "0\n",
      "n must be positive\n",
      "[1 2 6]\n",
      "[  1   2   6  24 120]\n"
     ]
    }
   ],
   "source": [
    "# Test\n",
    "\n",
    "print(all_factorials(0))\n",
    "print(all_factorials(-2))\n",
    "print(all_factorials(3))\n",
    "print(all_factorials(5))"
   ]
  },
  {
   "cell_type": "markdown",
   "metadata": {},
   "source": [
    "<h1>Problem 2: Percent changes</h1>\n",
    "Write a function that constructs an ndarray from data in a file and \n",
    "returns a 1-period percent change on an ndarray after removing any nan values. Your function must make use of the following functions:\n",
    "<li>np.genfromtxt: https://docs.scipy.org/doc/numpy-1.13.0/reference/generated/numpy.genfromtxt.html\n",
    "<li>np.diff: https://docs.scipy.org/doc/numpy-1.13.0/reference/generated/numpy.diff.html\n",
    "<li>np.isnan: https://docs.scipy.org/doc/numpy-1.13.0/reference/generated/numpy.isnan.html\n",
    "\n",
    "<p>Test your function out using the attached apple.csv file. Your function can assume that the file structure is (date,price)\n",
    "\n",
    "<p>Note that percent change is defined as (p(t)-p(t-1))/p(t-1)\n",
    "\n",
    "<b>Example:</b><br>\n",
    "If the data array is: np.array([1,2,np.NaN,4,8,np.NAN])\n",
    "<br>\n",
    "The output array should be<br>\n",
    "array([ 1.,  1.,  1.])\n"
   ]
  },
  {
   "cell_type": "code",
   "execution_count": 6,
   "metadata": {},
   "outputs": [],
   "source": [
    "def get_pct_changes(file_name):\n",
    "    import numpy as np\n",
    "    data = np.genfromtxt(file_name,delimiter=\",\") # Load data from a file\n",
    "    df = data[np.logical_not(np.isnan(data))] # Remove NaN values\n",
    "    pct_changes = np.diff(df)/df[:-1]  # Calculate the pct_changes\n",
    "    return pct_changes"
   ]
  },
  {
   "cell_type": "code",
   "execution_count": 7,
   "metadata": {},
   "outputs": [
    {
     "data": {
      "text/plain": [
       "array([-0.05217305, -0.07339571,  0.02475207, ..., -0.00977899,\n",
       "       -0.00882215,  0.01720356])"
      ]
     },
     "execution_count": 7,
     "metadata": {},
     "output_type": "execute_result"
    }
   ],
   "source": [
    "# Test\n",
    "\n",
    "get_pct_changes('apple.csv')"
   ]
  },
  {
   "cell_type": "markdown",
   "metadata": {},
   "source": [
    "<h1>Problem 3: Pandas Grouping</h1>\n",
    "Write a program that reads timeseries pricing data from a file into a pandas dataframe and then groups the data as follows:\n",
    "<li>Adds a column, one-day percent change to the file \n",
    "<li>Groups the data into four categories:\n",
    "<ul>\n",
    "<li>\"High+\" if the percent change is greater than 2.5%\n",
    "<li>\"Low+\" if the percent change is positive and less than or equal to 2.5% \n",
    "<li>\"Low-\" if the percent change is negative but greater than or equal to -2.5%\n",
    "<li>\"High-\" if the percent change is less than -2.5%\n",
    "</ul>\n",
    "<li>Report the size and the mean of each of the groups\n",
    "\n"
   ]
  },
  {
   "cell_type": "code",
   "execution_count": 8,
   "metadata": {},
   "outputs": [
    {
     "name": "stdout",
     "output_type": "stream",
     "text": [
      "High+    1391\n",
      "High-    1210\n",
      "Low+     3536\n",
      "Low-     3140\n",
      "dtype: int64\n",
      "       Adj Close  One-Day Pct_Change\n",
      "High+   8.652295            0.045705\n",
      "High-   8.289065           -0.044220\n",
      "Low+   23.738642            0.009879\n",
      "Low-   24.183470           -0.011171\n"
     ]
    }
   ],
   "source": [
    "datafile = \"apple.csv\"\n",
    "import pandas as pd\n",
    "import numpy as np\n",
    "df = pd.read_csv('apple.csv',na_values='null')\n",
    "\n",
    "# Adds a column called 'One-Day percent change' to the file\n",
    "df['One-Day Pct_Change'] = df['Adj Close'].pct_change()\n",
    "\n",
    "# Group by function\n",
    "def GroupColFunc(df, ind, col):\n",
    "    if df[col].loc[ind] > 0.025:\n",
    "        return 'High+'\n",
    "    elif df[col].loc[ind] >= 0:\n",
    "        return 'Low+'\n",
    "    elif df[col].loc[ind] >= -0.025:\n",
    "        return 'Low-'\n",
    "    elif df[col].loc[ind] < -0.025:\n",
    "        return 'High-'\n",
    "    else:\n",
    "        return None\n",
    "\n",
    "# Apply the function\n",
    "grouped = df.groupby(lambda x: GroupColFunc(df, x, 'One-Day Pct_Change'))\n",
    "\n",
    "# Report the size and the mean of each of the groups\n",
    "print(grouped.size())\n",
    "print(grouped.mean())"
   ]
  },
  {
   "cell_type": "code",
   "execution_count": 9,
   "metadata": {},
   "outputs": [
    {
     "data": {
      "text/html": [
       "<div>\n",
       "<style scoped>\n",
       "    .dataframe tbody tr th:only-of-type {\n",
       "        vertical-align: middle;\n",
       "    }\n",
       "\n",
       "    .dataframe tbody tr th {\n",
       "        vertical-align: top;\n",
       "    }\n",
       "\n",
       "    .dataframe thead th {\n",
       "        text-align: right;\n",
       "    }\n",
       "</style>\n",
       "<table border=\"1\" class=\"dataframe\">\n",
       "  <thead>\n",
       "    <tr style=\"text-align: right;\">\n",
       "      <th></th>\n",
       "      <th>Date</th>\n",
       "      <th>Adj Close</th>\n",
       "      <th>One-Day Pct_Change</th>\n",
       "    </tr>\n",
       "  </thead>\n",
       "  <tbody>\n",
       "    <tr>\n",
       "      <th>0</th>\n",
       "      <td>1980-12-12</td>\n",
       "      <td>0.421597</td>\n",
       "      <td>NaN</td>\n",
       "    </tr>\n",
       "    <tr>\n",
       "      <th>1</th>\n",
       "      <td>1980-12-15</td>\n",
       "      <td>0.399601</td>\n",
       "      <td>-0.052173</td>\n",
       "    </tr>\n",
       "    <tr>\n",
       "      <th>2</th>\n",
       "      <td>1980-12-16</td>\n",
       "      <td>0.370272</td>\n",
       "      <td>-0.073396</td>\n",
       "    </tr>\n",
       "    <tr>\n",
       "      <th>3</th>\n",
       "      <td>1980-12-17</td>\n",
       "      <td>0.379437</td>\n",
       "      <td>0.024752</td>\n",
       "    </tr>\n",
       "    <tr>\n",
       "      <th>4</th>\n",
       "      <td>1980-12-18</td>\n",
       "      <td>0.390436</td>\n",
       "      <td>0.028988</td>\n",
       "    </tr>\n",
       "    <tr>\n",
       "      <th>...</th>\n",
       "      <td>...</td>\n",
       "      <td>...</td>\n",
       "      <td>...</td>\n",
       "    </tr>\n",
       "    <tr>\n",
       "      <th>9273</th>\n",
       "      <td>2017-09-20</td>\n",
       "      <td>156.070007</td>\n",
       "      <td>-0.016758</td>\n",
       "    </tr>\n",
       "    <tr>\n",
       "      <th>9274</th>\n",
       "      <td>2017-09-21</td>\n",
       "      <td>153.389999</td>\n",
       "      <td>-0.017172</td>\n",
       "    </tr>\n",
       "    <tr>\n",
       "      <th>9275</th>\n",
       "      <td>2017-09-22</td>\n",
       "      <td>151.889999</td>\n",
       "      <td>-0.009779</td>\n",
       "    </tr>\n",
       "    <tr>\n",
       "      <th>9276</th>\n",
       "      <td>2017-09-25</td>\n",
       "      <td>150.550003</td>\n",
       "      <td>-0.008822</td>\n",
       "    </tr>\n",
       "    <tr>\n",
       "      <th>9277</th>\n",
       "      <td>2017-09-26</td>\n",
       "      <td>153.139999</td>\n",
       "      <td>0.017204</td>\n",
       "    </tr>\n",
       "  </tbody>\n",
       "</table>\n",
       "<p>9278 rows × 3 columns</p>\n",
       "</div>"
      ],
      "text/plain": [
       "            Date   Adj Close  One-Day Pct_Change\n",
       "0     1980-12-12    0.421597                 NaN\n",
       "1     1980-12-15    0.399601           -0.052173\n",
       "2     1980-12-16    0.370272           -0.073396\n",
       "3     1980-12-17    0.379437            0.024752\n",
       "4     1980-12-18    0.390436            0.028988\n",
       "...          ...         ...                 ...\n",
       "9273  2017-09-20  156.070007           -0.016758\n",
       "9274  2017-09-21  153.389999           -0.017172\n",
       "9275  2017-09-22  151.889999           -0.009779\n",
       "9276  2017-09-25  150.550003           -0.008822\n",
       "9277  2017-09-26  153.139999            0.017204\n",
       "\n",
       "[9278 rows x 3 columns]"
      ]
     },
     "execution_count": 9,
     "metadata": {},
     "output_type": "execute_result"
    }
   ],
   "source": [
    "df"
   ]
  }
 ],
 "metadata": {
  "kernelspec": {
   "display_name": "Python 3",
   "language": "python",
   "name": "python3"
  },
  "language_info": {
   "codemirror_mode": {
    "name": "ipython",
    "version": 3
   },
   "file_extension": ".py",
   "mimetype": "text/x-python",
   "name": "python",
   "nbconvert_exporter": "python",
   "pygments_lexer": "ipython3",
   "version": "3.7.6"
  }
 },
 "nbformat": 4,
 "nbformat_minor": 2
}
